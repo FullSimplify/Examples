{
 "cells": [
  {
   "cell_type": "markdown",
   "metadata": {},
   "source": [
    "# Decorators"
   ]
  },
  {
   "cell_type": "markdown",
   "metadata": {},
   "source": [
    "In Python decorators are a software pattern used to extend the functionality to an object (a function or class) at compile time. In practice the basic decorator is a function that takes a function and returns the modified version of that function. Decorators helps in several ways, for example it helps programmers to avoid code repetitions, mantain backward compatibility and simply add or remove functionalities of objects."
   ]
  },
  {
   "cell_type": "markdown",
   "metadata": {},
   "source": [
    "## First example"
   ]
  },
  {
   "cell_type": "markdown",
   "metadata": {},
   "source": [
    "Consider the case in which we have several functions of which we want to estimate the execution time. We don't want to modify each function to include a \"timer\" but we can obtain the same result by adding a decorator to each of those function, so we just need to program one decorator and apply it where we need. "
   ]
  },
  {
   "cell_type": "markdown",
   "metadata": {},
   "source": [
    "Consider the following decorator."
   ]
  },
  {
   "cell_type": "code",
   "execution_count": 81,
   "metadata": {},
   "outputs": [],
   "source": [
    "import time\n",
    "def CalcTime(input_func):  # this is the decorator\n",
    "    def decorated_func(*args):  # here we extend the functionality of \"input_func\"\n",
    "        time1 = time.perf_counter()\n",
    "        input_func(*args)\n",
    "        print(\"time = {:1.6f} seconds\".format(time.perf_counter() - time1))\n",
    "    return decorated_func "
   ]
  },
  {
   "cell_type": "markdown",
   "metadata": {},
   "source": [
    "Notice that we can pass arguments to the function that we decorate, in this case I pass a generic `*args`. Moreover the decorator has to return the decorated function. Now we just need to apply the decorator to a function. For example:"
   ]
  },
  {
   "cell_type": "code",
   "execution_count": 82,
   "metadata": {},
   "outputs": [],
   "source": [
    "import numpy as np\n",
    "\n",
    "@CalcTime\n",
    "def long_calc(iterations):\n",
    "    for i in range(1, iterations):\n",
    "        np.log(i)"
   ]
  },
  {
   "cell_type": "code",
   "execution_count": 83,
   "metadata": {},
   "outputs": [
    {
     "name": "stdout",
     "output_type": "stream",
     "text": [
      "time = 0.0175664000 seconds\n"
     ]
    }
   ],
   "source": [
    "long_calc(10000)"
   ]
  },
  {
   "cell_type": "markdown",
   "metadata": {},
   "source": [
    "Not all timing functions in the `time` module have a good resolution, and it depend on the OS. Here's a quick breakdown of the main timers in the `time` module on windows: "
   ]
  },
  {
   "cell_type": "code",
   "execution_count": 84,
   "metadata": {},
   "outputs": [
    {
     "name": "stdout",
     "output_type": "stream",
     "text": [
      "namespace(adjustable=False, implementation='GetTickCount64()', monotonic=True, resolution=0.015625)\n",
      "namespace(adjustable=False, implementation='QueryPerformanceCounter()', monotonic=True, resolution=1e-07)\n",
      "namespace(adjustable=False, implementation='GetProcessTimes()', monotonic=True, resolution=1e-07)\n",
      "namespace(adjustable=True, implementation='GetSystemTimeAsFileTime()', monotonic=False, resolution=0.015625)\n"
     ]
    }
   ],
   "source": [
    "for timer in ['monotonic', 'perf_counter', 'process_time', 'time']:\n",
    "    print(time.get_clock_info(timer))"
   ]
  },
  {
   "cell_type": "markdown",
   "metadata": {},
   "source": [
    "You see why I used the `perf_counter`. Let's go back to decorators. If we had another function of which we want to measure its performances we can just add the decorator:"
   ]
  },
  {
   "cell_type": "code",
   "execution_count": 85,
   "metadata": {},
   "outputs": [],
   "source": [
    "@CalcTime\n",
    "def long_calc_2(iterations):\n",
    "    for i in range(iterations):\n",
    "        np.sqrt(i)"
   ]
  },
  {
   "cell_type": "code",
   "execution_count": 86,
   "metadata": {},
   "outputs": [
    {
     "name": "stdout",
     "output_type": "stream",
     "text": [
      "time = 0.0180103000 seconds\n"
     ]
    }
   ],
   "source": [
    "long_calc_2(10000)"
   ]
  },
  {
   "cell_type": "markdown",
   "metadata": {},
   "source": [
    "## Decoators with arguments"
   ]
  },
  {
   "cell_type": "markdown",
   "metadata": {},
   "source": [
    "Even if we can apply the same decorators to many functions, shortening the code and avoiding repetitions, we may be in the situation in which we need many decorators with a slightly different behavior when applied to slightly different functions. For example, what if we wanted to measure the run time of functios just like before, but we also want to add a specific functionality (in our case simply modifying the printed string) depending on which calculation (log or sqrt) we are performing. We can then use a decorator with arguments:"
   ]
  },
  {
   "cell_type": "code",
   "execution_count": 87,
   "metadata": {},
   "outputs": [],
   "source": [
    "def DecFun(operation):  # this is a function that returns a decorator\n",
    "    def CalcTime(input_func):  # decorator\n",
    "        def decorated_func(*args): \n",
    "            time1 = time.perf_counter()\n",
    "            input_func(*args)\n",
    "            print(\"time of {} function = {:1.6f} seconds\".format(operation, time.perf_counter() - time1))\n",
    "        return decorated_func\n",
    "    return CalcTime"
   ]
  },
  {
   "cell_type": "code",
   "execution_count": 88,
   "metadata": {},
   "outputs": [],
   "source": [
    "@DecFun('logarithm')\n",
    "def long_calc(iterations):\n",
    "    for i in range(1, iterations):\n",
    "        np.log(i)"
   ]
  },
  {
   "cell_type": "code",
   "execution_count": 89,
   "metadata": {},
   "outputs": [
    {
     "name": "stdout",
     "output_type": "stream",
     "text": [
      "time of logarithm function = 0.0255265000 seconds\n"
     ]
    }
   ],
   "source": [
    "long_calc(10000)"
   ]
  },
  {
   "cell_type": "code",
   "execution_count": 90,
   "metadata": {},
   "outputs": [],
   "source": [
    "@DecFun('square root')\n",
    "def long_calc_2(iterations):\n",
    "    for i in range(iterations):\n",
    "        np.sqrt(i)"
   ]
  },
  {
   "cell_type": "code",
   "execution_count": 91,
   "metadata": {},
   "outputs": [
    {
     "name": "stdout",
     "output_type": "stream",
     "text": [
      "time of square root function = 0.0245481000 seconds\n"
     ]
    }
   ],
   "source": [
    "long_calc_2(10000)"
   ]
  },
  {
   "cell_type": "markdown",
   "metadata": {},
   "source": [
    "## Classes as Decorators"
   ]
  },
  {
   "cell_type": "markdown",
   "metadata": {},
   "source": [
    "At this point we can extend the functionality of functions or class methods. What about *decorating functions using classes*? It is indeed possible. Our basic recipe is to write a function that takes a parameter. In this case instead we write a `class` that returns the input function with the modified behavior."
   ]
  },
  {
   "cell_type": "code",
   "execution_count": 371,
   "metadata": {},
   "outputs": [],
   "source": [
    "class ClassDecorator(object):    # decorates the class\n",
    "    def __init__(self, func):\n",
    "        self.func = func\n",
    "    def __call__(self, *args):\n",
    "        print(\"The function '{}' has been called with arguments: {}\".format(self.func, *args))"
   ]
  },
  {
   "cell_type": "code",
   "execution_count": 372,
   "metadata": {},
   "outputs": [],
   "source": [
    "@ClassDecorator\n",
    "def long_calc(iterations):\n",
    "    for i in range(1, iterations):\n",
    "        np.log(i)"
   ]
  },
  {
   "cell_type": "code",
   "execution_count": 373,
   "metadata": {},
   "outputs": [
    {
     "name": "stdout",
     "output_type": "stream",
     "text": [
      "The function '<function long_calc at 0x0000021AFA568730>' has been called with arguments: 10000\n"
     ]
    }
   ],
   "source": [
    "long_calc(10000)"
   ]
  },
  {
   "cell_type": "markdown",
   "metadata": {},
   "source": [
    "Why implementing `__call__`? the `@ClassDecorator` applied to `long_calc` creates the new version of `long_calc` as described in `ClassDecorator` and calls `ClassDecorator`itself therfore the `__call__`is automatically invoked."
   ]
  }
 ],
 "metadata": {
  "kernelspec": {
   "display_name": "Python 3.6.2 64-bit",
   "language": "python",
   "name": "python36264bitec4441131f6b473bac97b47a7653e3c3"
  },
  "language_info": {
   "codemirror_mode": {
    "name": "ipython",
    "version": 3
   },
   "file_extension": ".py",
   "mimetype": "text/x-python",
   "name": "python",
   "nbconvert_exporter": "python",
   "pygments_lexer": "ipython3",
   "version": "3.6.2"
  }
 },
 "nbformat": 4,
 "nbformat_minor": 4
}
