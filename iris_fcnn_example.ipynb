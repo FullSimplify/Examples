{
 "cells": [
  {
   "cell_type": "markdown",
   "metadata": {},
   "source": [
    "# Simple Iris dataset classification with Torch"
   ]
  },
  {
   "cell_type": "markdown",
   "metadata": {},
   "source": [
    "Example for a multi-class classification problem with a fully connected network and batch training"
   ]
  },
  {
   "cell_type": "code",
   "execution_count": 1,
   "metadata": {},
   "outputs": [
    {
     "name": "stdout",
     "output_type": "stream",
     "text": [
      "Epoch 0, loss = 1.1283775568008423\n",
      "Epoch 100, loss = 0.5516494512557983\n",
      "Epoch 200, loss = 0.5515233278274536\n",
      "Epoch 300, loss = 0.5514892935752869\n",
      "Epoch 400, loss = 0.5514745712280273\n",
      "Epoch 500, loss = 0.5514665842056274\n",
      "Epoch 600, loss = 0.5514616966247559\n",
      "Epoch 700, loss = 0.5514583587646484\n",
      "Epoch 800, loss = 0.5514560341835022\n",
      "Epoch 900, loss = 0.5514542460441589\n",
      "test set accuracy 1.0\n"
     ]
    }
   ],
   "source": [
    "\"\"\" Multi-class classification of the iris dataset with a fully connected net.\n",
    "    The network takes 4 input features and outputs the probability (softmax)\n",
    "    of eaech sample in the training batch to belong to each class.\n",
    "    For example if the batch is made of 10 samples, the output of the network\n",
    "    is a (10 x 3) matrix where row 1 is a vector with three scalars representing\n",
    "    the probability that the first sample beongs to each class.\n",
    "\"\"\"\n",
    "import torch\n",
    "import torch.nn as nn\n",
    "import torch.optim as optim\n",
    "from torch.autograd import Variable\n",
    "from sklearn import datasets\n",
    "from sklearn.preprocessing import MinMaxScaler\n",
    "from sklearn.model_selection import train_test_split\n",
    "from sklearn.metrics import accuracy_score\n",
    "import numpy as np\n",
    "\n",
    "\n",
    "class fcnn(nn.Module):\n",
    "    def __init__(self, input_features=4, hidden_size=5, output_classes=3):\n",
    "        \"\"\" iris dataset has 4 features and 3 flower species (classes) \"\"\"\n",
    "        super(fcnn, self).__init__()\n",
    "        self.layer1 = nn.Linear(input_features, hidden_size)\n",
    "        self.layer2 = nn.Linear(hidden_size, output_classes)\n",
    "        self.softmax = nn.Softmax(dim=1)\n",
    "\n",
    "    def forward(self, x):\n",
    "        x = self.layer1(x)\n",
    "        x = self.layer2(x)\n",
    "        return self.softmax(x)\n",
    "\n",
    "\n",
    "if __name__ == \"__main__\":\n",
    "    iris = datasets.load_iris()\n",
    "    df = np.c_[iris.data, iris.target]\n",
    "    \n",
    "    df = df[:100, ]  # binary classification\n",
    "\n",
    "    np.random.shuffle(df)\n",
    "\n",
    "    X = df[:, :-1]\n",
    "    y = df[:, -1]\n",
    "\n",
    "    X_train, X_test, y_train, y_test = train_test_split(X, y, test_size = 0.25)\n",
    "\n",
    "    X_train = torch.from_numpy(X_train).float()\n",
    "    X_test = torch.from_numpy(X_test).float()\n",
    "    y_train = torch.from_numpy(y_train).long()\n",
    "    y_test = torch.from_numpy(y_test).long()\n",
    "\n",
    "    # instantiate the network\n",
    "    net = fcnn()\n",
    "    net = net.float()\n",
    "    # print(net)\n",
    "\n",
    "    # define the optimizer \n",
    "    optimizer = optim.SGD(net.parameters(), lr=0.05)    \n",
    "    # define the loss\n",
    "    loss_fun = nn.CrossEntropyLoss()\n",
    "\n",
    "    epochs = 1000\n",
    "    batch_size = 10\n",
    "    epoch_loss = []\n",
    "    for epoch in range(epochs):\n",
    "        optimizer.zero_grad()\n",
    "        for i in range(0, X_train.shape[0], batch_size):\n",
    "\n",
    "            x_b = X_train[i: i + batch_size].float()\n",
    "            y_b = y_train[i: i + batch_size]\n",
    "            \n",
    "            y_hat = net(x_b)\n",
    "            loss = loss_fun(y_hat.squeeze(), y_b.squeeze()) \n",
    "            loss.backward()\n",
    "            optimizer.step()\n",
    "\n",
    "        epoch_loss.append(loss)\n",
    "        if epoch % 100 == 0:\n",
    "            print(\"Epoch {}, loss = {}\".format(epoch, loss))\n",
    "\n",
    "    # test accuracy\n",
    "    predicted = net(X_test)\n",
    "    _, y_pred = torch.max(predicted, 1)  # output 1 = max, output 2 = argmax\n",
    "\n",
    "    print('test set accuracy', accuracy_score(y_test.data, y_pred.data))"
   ]
  },
  {
   "cell_type": "code",
   "execution_count": null,
   "metadata": {},
   "outputs": [],
   "source": []
  }
 ],
 "metadata": {
  "kernelspec": {
   "display_name": "Python 3.6.2 64-bit",
   "language": "python",
   "name": "python36264bitec4441131f6b473bac97b47a7653e3c3"
  },
  "language_info": {
   "codemirror_mode": {
    "name": "ipython",
    "version": 3
   },
   "file_extension": ".py",
   "mimetype": "text/x-python",
   "name": "python",
   "nbconvert_exporter": "python",
   "pygments_lexer": "ipython3",
   "version": "3.6.2"
  }
 },
 "nbformat": 4,
 "nbformat_minor": 4
}
